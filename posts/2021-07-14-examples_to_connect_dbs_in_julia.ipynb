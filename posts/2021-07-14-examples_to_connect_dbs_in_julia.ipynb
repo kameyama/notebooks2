{
 "cells": [
  {
   "cell_type": "raw",
   "metadata": {},
   "source": [
    "---\n",
    "title: \"Connect databses in Julia\"\n",
    "description: \"Examples to connect db in Julia\"\n",
    "date: \"2021/07/29\"\n",
    "format:\n",
    "  html:\n",
    "    code-fold: true\n",
    "  pdf:\n",
    "    geometry: \n",
    "        - top=30mm\n",
    "        - left=30mm\n",
    "jupyter: julia-1.9\n",
    "categories: [julia, database, aws, gcp, bigquery]\n",
    "---"
   ]
  },
  {
   "cell_type": "code",
   "execution_count": 19,
   "metadata": {},
   "outputs": [
    {
     "name": "stdout",
     "output_type": "stream",
     "text": [
      "Julia Version 1.6.1\n",
      "Commit 6aaedecc44 (2021-04-23 05:59 UTC)\n",
      "Platform Info:\n",
      "  OS: macOS (x86_64-apple-darwin18.7.0)\n",
      "  CPU: Intel(R) Core(TM) i7-8557U CPU @ 1.70GHz\n",
      "  WORD_SIZE: 64\n",
      "  LIBM: libopenlibm\n",
      "  LLVM: libLLVM-11.0.1 (ORCJIT, skylake)\n",
      "Environment:\n",
      "  JULIA_NUM_THREADS = 8\n"
     ]
    }
   ],
   "source": [
    "versioninfo()"
   ]
  },
  {
   "cell_type": "code",
   "execution_count": null,
   "metadata": {},
   "outputs": [],
   "source": []
  },
  {
   "cell_type": "code",
   "execution_count": 1,
   "metadata": {},
   "outputs": [],
   "source": [
    "using GBQ"
   ]
  },
  {
   "cell_type": "code",
   "execution_count": 10,
   "metadata": {},
   "outputs": [],
   "source": [
    "# use .env\n",
    "using DotEnv\n",
    "DotEnv.config(path = \"/Users/kameyama/.env\")\n",
    "aurora=\"dbname='$(ENV[\"WRITE_RDB_DATABASE\"])' host='$(ENV[\"WRITE_RDB_HOST\"])' user='$(ENV[\"WRITE_RDB_USERNAME\"])' password='$(ENV[\"WRITE_RDB_PASSWORD\"])' port=$(ENV[\"WRITE_RDB_PORT\"])\"\n",
    "redshift=\"dbname='$(ENV[\"DWH_DATABASE\"])' host='$(ENV[\"DWH_HOST\"])' user='$(ENV[\"DWH_USERNAME\"])' password='$(ENV[\"DWH_PASSWORD\"])' port=$(ENV[\"DWH_PORT\"])\"\n",
    "project_name=ENV[\"BQ_PROJECT_NAME\"]\n",
    "dataset_name=ENV[\"BQ_DATASET_NAME\"]\n",
    ";"
   ]
  },
  {
   "cell_type": "code",
   "execution_count": 3,
   "metadata": {},
   "outputs": [],
   "source": [
    "using LibPQ\n",
    "using DataFrames\n",
    "# next two packages conflict with each other at the macro @select\n",
    "using DataFramesMeta\n",
    "# using Queryverse #packages for dataframes "
   ]
  },
  {
   "cell_type": "code",
   "execution_count": 4,
   "metadata": {},
   "outputs": [],
   "source": [
    "using Format"
   ]
  },
  {
   "cell_type": "code",
   "execution_count": 5,
   "metadata": {},
   "outputs": [
    {
     "data": {
      "text/plain": [
       "sql (generic function with 1 method)"
      ]
     },
     "execution_count": 5,
     "metadata": {},
     "output_type": "execute_result"
    }
   ],
   "source": [
    "function sql(query,conn_str)\n",
    "    conn = LibPQ.Connection(conn_str; options=Dict{String, String}())\n",
    "    result =execute(conn,query)\n",
    "    df = DataFrame(result)\n",
    "    close(conn)\n",
    "    return df\n",
    "end "
   ]
  },
  {
   "cell_type": "code",
   "execution_count": null,
   "metadata": {},
   "outputs": [],
   "source": []
  },
  {
   "cell_type": "code",
   "execution_count": 6,
   "metadata": {},
   "outputs": [
    {
     "data": {
      "text/plain": [
       "sql_time (generic function with 1 method)"
      ]
     },
     "execution_count": 6,
     "metadata": {},
     "output_type": "execute_result"
    }
   ],
   "source": [
    "function sql_time(query1,query2)\n",
    "    print(\"Aurora: \")\n",
    "    @time sql(query1,aurora)\n",
    "    print(\"Redshift: \")\n",
    "    @time sql(query1,redshift)\n",
    "    print(\"Bigquery: \")\n",
    "    @time gbq_query(query2)\n",
    "end"
   ]
  },
  {
   "cell_type": "code",
   "execution_count": 17,
   "metadata": {},
   "outputs": [
    {
     "data": {
      "text/plain": [
       "\"select * from prod-tameike-219208.smart.companies\""
      ]
     },
     "execution_count": 17,
     "metadata": {},
     "output_type": "execute_result"
    }
   ],
   "source": [
    "query=\"select * from {}companies\"\n",
    "query1=format(query,\"\")\n",
    "query2=format(query,project_name*\".\"*dataset_name*\".\")"
   ]
  },
  {
   "cell_type": "code",
   "execution_count": 18,
   "metadata": {},
   "outputs": [
    {
     "name": "stdout",
     "output_type": "stream",
     "text": [
      "Aurora:   0.485374 seconds (202.23 k allocations: 7.152 MiB)\n",
      "Redshift:   0.265902 seconds (211.10 k allocations: 7.288 MiB)\n",
      "Bigquery:   2.751780 seconds (142.51 k allocations: 14.153 MiB)\n"
     ]
    }
   ],
   "source": [
    "sql_time(query1,query2);"
   ]
  },
  {
   "cell_type": "code",
   "execution_count": null,
   "metadata": {},
   "outputs": [],
   "source": []
  }
 ],
 "metadata": {
  "@webio": {
   "lastCommId": null,
   "lastKernelId": null
  },
  "kernelspec": {
   "display_name": "Julia 1.6.0",
   "language": "julia",
   "name": "julia-1.6"
  },
  "language_info": {
   "file_extension": ".jl",
   "mimetype": "application/julia",
   "name": "julia",
   "version": "1.6.2"
  }
 },
 "nbformat": 4,
 "nbformat_minor": 4
}
