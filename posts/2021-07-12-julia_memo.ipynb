{
 "cells": [
  {
   "cell_type": "markdown",
   "id": "b0e185d6",
   "metadata": {},
   "source": [
    "---\n",
    "title: \"julia memo\"\n",
    "description: \"(自分が)よく間違えるjuliaの構文をまとめる\"\n",
    "date: \"2021/07/29\"\n",
    "format:\n",
    "  html:\n",
    "    code-fold: true\n",
    "  pdf:\n",
    "    geometry: \n",
    "        - top=30mm\n",
    "        - left=30mm\n",
    "jupyter: julia-1.9\n",
    "categories: [julia, database, aws, gcp, bigquery]\n",
    "---"
   ]
  },
  {
   "cell_type": "code",
   "execution_count": 7,
   "id": "88a20ef1",
   "metadata": {},
   "outputs": [
    {
     "name": "stdout",
     "output_type": "stream",
     "text": [
      "Julia Version 1.10.0\n",
      "Commit 3120989f39b (2023-12-25 18:01 UTC)\n",
      "Build Info:\n",
      "  Official https://julialang.org/ release\n",
      "Platform Info:\n",
      "  OS: macOS (arm64-apple-darwin22.4.0)\n",
      "  CPU: 8 × Apple M1\n",
      "  WORD_SIZE: 64\n",
      "  LIBM: libopenlibm\n",
      "  LLVM: libLLVM-15.0.7 (ORCJIT, apple-m1)\n",
      "  Threads: 1 on 4 virtual cores\n",
      "Environment:\n",
      "  JULIA_NUM_THREADS = \n"
     ]
    }
   ],
   "source": [
    "versioninfo()"
   ]
  },
  {
   "cell_type": "code",
   "execution_count": null,
   "id": "60b1e122",
   "metadata": {},
   "outputs": [],
   "source": []
  },
  {
   "cell_type": "markdown",
   "id": "39e1d130",
   "metadata": {},
   "source": [
    "# よく間違えるjulia構文\n",
    "\n",
    "\n",
    "## 配列のfor文\n",
    "多次元配列と配列の配列を混同してfor文を間違えることがある. \n",
    "適当な多次元配列$x$があるとする."
   ]
  },
  {
   "cell_type": "code",
   "execution_count": 8,
   "id": "a54f9da1",
   "metadata": {},
   "outputs": [
    {
     "data": {
      "text/plain": [
       "10×3 Matrix{Int64}:\n",
       " 4  2  4\n",
       " 3  3  3\n",
       " 1  5  1\n",
       " 1  3  5\n",
       " 2  4  3\n",
       " 2  4  3\n",
       " 4  3  4\n",
       " 5  1  3\n",
       " 2  4  1\n",
       " 2  3  4"
      ]
     },
     "metadata": {},
     "output_type": "display_data"
    }
   ],
   "source": [
    "x = rand(1:5, 10, 3)"
   ]
  },
  {
   "cell_type": "markdown",
   "id": "2da30961",
   "metadata": {},
   "source": [
    "for文で多次元配列を回そうとすると全ての要素を縦になめる:"
   ]
  },
  {
   "cell_type": "code",
   "execution_count": 9,
   "id": "b218d5b9",
   "metadata": {},
   "outputs": [
    {
     "name": "stdout",
     "output_type": "stream",
     "text": [
      "4\n",
      "3\n",
      "1\n",
      "1\n",
      "2\n",
      "2\n",
      "4\n",
      "5\n",
      "2\n",
      "2\n",
      "2\n",
      "3\n",
      "5\n",
      "3\n",
      "4\n",
      "4\n",
      "3\n",
      "1\n",
      "4\n",
      "3\n",
      "4\n",
      "3\n",
      "1\n",
      "5\n",
      "3\n",
      "3\n",
      "4\n",
      "3\n",
      "1\n",
      "4\n"
     ]
    }
   ],
   "source": [
    "for e in x\n",
    "    println(e)\n",
    "end"
   ]
  },
  {
   "cell_type": "markdown",
   "id": "d02026c7",
   "metadata": {},
   "source": [
    "行ごとに回したければeachrowを使う:"
   ]
  },
  {
   "cell_type": "code",
   "execution_count": 10,
   "id": "a2f30a4f",
   "metadata": {},
   "outputs": [
    {
     "name": "stdout",
     "output_type": "stream",
     "text": [
      "[4, 2, 4]\n",
      "[3, 3, 3]\n",
      "[1, 5, 1]\n",
      "[1, 3, 5]\n",
      "[2, 4, 3]\n",
      "[2, 4, 3]\n",
      "[4, 3, 4]\n",
      "[5, 1, 3]\n",
      "[2, 4, 1]\n",
      "[2, 3, 4]\n"
     ]
    }
   ],
   "source": [
    "for row in eachrow(x)\n",
    "    println(row)\n",
    "end"
   ]
  },
  {
   "cell_type": "code",
   "execution_count": 11,
   "id": "a342d745",
   "metadata": {},
   "outputs": [
    {
     "name": "stdout",
     "output_type": "stream",
     "text": [
      "[4, 3, 1, 1, 2, 2, 4, 5, 2, 2]\n",
      "[2, 3, 5, 3, 4, 4, 3, 1, 4, 3]\n",
      "[4, 3, 1, 5, 3, 3, 4, 3, 1, 4]\n"
     ]
    }
   ],
   "source": [
    "for col in eachcol(x)\n",
    "    println(col)\n",
    "end"
   ]
  },
  {
   "cell_type": "markdown",
   "id": "e0e5616f",
   "metadata": {},
   "source": [
    "# 配列の配列の場合\n",
    "\n",
    "配列の配列$y$があるとする"
   ]
  },
  {
   "cell_type": "code",
   "execution_count": 12,
   "id": "e072ba0b",
   "metadata": {},
   "outputs": [
    {
     "data": {
      "text/plain": [
       "10-element Vector{Vector{Int64}}:\n",
       " [3, 4, 4]\n",
       " [1, 4, 4]\n",
       " [3, 3, 2]\n",
       " [5, 5, 2]\n",
       " [5, 2, 2]\n",
       " [2, 1, 5]\n",
       " [3, 2, 1]\n",
       " [5, 5, 3]\n",
       " [5, 2, 2]\n",
       " [3, 2, 4]"
      ]
     },
     "metadata": {},
     "output_type": "display_data"
    }
   ],
   "source": [
    "y=[zeros(Int,3) for i=1:10]\n",
    "for i=1:10\n",
    "    for j=1:3\n",
    "        y[i][j]=rand(1:5)\n",
    "    end\n",
    "end\n",
    "y"
   ]
  },
  {
   "cell_type": "markdown",
   "id": "97324be6",
   "metadata": {},
   "source": [
    "この場合は次のように回せる:"
   ]
  },
  {
   "cell_type": "code",
   "execution_count": 13,
   "id": "68f74a0a",
   "metadata": {},
   "outputs": [
    {
     "name": "stdout",
     "output_type": "stream",
     "text": [
      "[3, 4, 4]\n",
      "[1, 4, 4]\n",
      "[3, 3, 2]\n",
      "[5, 5, 2]\n",
      "[5, 2, 2]\n",
      "[2, 1, 5]\n",
      "[3, 2, 1]\n",
      "[5, 5, 3]\n",
      "[5, 2, 2]\n",
      "[3, 2, 4]\n"
     ]
    }
   ],
   "source": [
    "for row in y\n",
    "    println(row)\n",
    "end"
   ]
  },
  {
   "cell_type": "code",
   "execution_count": 14,
   "id": "ace2a404",
   "metadata": {},
   "outputs": [],
   "source": []
  },
  {
   "cell_type": "markdown",
   "id": "417f23bd",
   "metadata": {},
   "source": [
    "# 部分配列\n",
    "ある配列から特定の条件を満たす部分配列を求める場合filter関数を使いたくなる:"
   ]
  },
  {
   "cell_type": "code",
   "execution_count": 15,
   "id": "07bcf35c",
   "metadata": {},
   "outputs": [
    {
     "ename": "Base.Meta.ParseError",
     "evalue": "ParseError:\n# Error @ /Users/masaya/projects/notebooks2/posts/2021-07-12-julia_memo.ipynb:1:1\n?filter\n╙ ── not a unary operator",
     "output_type": "error",
     "traceback": [
      "ParseError:\n",
      "# Error @ /Users/masaya/projects/notebooks2/posts/2021-07-12-julia_memo.ipynb:1:1\n",
      "?filter\n",
      "╙ ── not a unary operator\n",
      "\n",
      "Stacktrace:\n",
      " [1] top-level scope\n",
      "   @ ~/projects/notebooks2/posts/2021-07-12-julia_memo.ipynb:1"
     ]
    }
   ],
   "source": [
    "?filter"
   ]
  },
  {
   "cell_type": "markdown",
   "id": "9b776359",
   "metadata": {},
   "source": [
    "多次元配列に対しfilter関数を使うと１次元配列が返る:"
   ]
  },
  {
   "cell_type": "code",
   "execution_count": 16,
   "id": "9fdb10af",
   "metadata": {},
   "outputs": [
    {
     "data": {
      "text/plain": [
       "10×3 Matrix{Int64}:\n",
       "  1434155849139153490   8792201589749886045   -349363450898840745\n",
       "  5845810908379303736  -8265185926902104011  -5065380767449374288\n",
       " -3447320615839289584   2389268345481233176  -6485329445295354633\n",
       " -5365742947389604229  -2326303111811756091   8698018437924141657\n",
       "  3595047806792093185   1172421900134288996  -4750125639239034923\n",
       "  1363143167553767130   7000736503973028484   5847702750677365622\n",
       " -9135160136868605419  -2968857547344022737  -3598011947351858499\n",
       " -7733185694899413747  -9217370134120495903  -7561702952325334262\n",
       " -7716510106645479528   5657573041425477116  -1159079173192823842\n",
       " -3856910791373303962   2502860500295826394   7127390806145534861"
      ]
     },
     "metadata": {},
     "output_type": "display_data"
    }
   ],
   "source": [
    " x =  reshape([rand(Int) for i=1:10*3], (:, 3))"
   ]
  },
  {
   "cell_type": "code",
   "execution_count": 17,
   "id": "eccd6388",
   "metadata": {},
   "outputs": [
    {
     "data": {
      "text/plain": [
       "15-element Vector{Int64}:\n",
       " -5365742947389604229\n",
       "  3595047806792093185\n",
       " -9135160136868605419\n",
       " -7733185694899413747\n",
       "  8792201589749886045\n",
       " -8265185926902104011\n",
       " -2326303111811756091\n",
       " -2968857547344022737\n",
       " -9217370134120495903\n",
       "  -349363450898840745\n",
       " -6485329445295354633\n",
       "  8698018437924141657\n",
       " -4750125639239034923\n",
       " -3598011947351858499\n",
       "  7127390806145534861"
      ]
     },
     "metadata": {},
     "output_type": "display_data"
    }
   ],
   "source": [
    "filter(isodd, skipmissing(x))"
   ]
  },
  {
   "cell_type": "markdown",
   "id": "b8f4ea1c",
   "metadata": {},
   "source": [
    "従って2列目が偶数である部分配列を取り出そうとして次のコードを実行するとエラーになる:"
   ]
  },
  {
   "cell_type": "code",
   "execution_count": 18,
   "id": "dab0cb6d",
   "metadata": {},
   "outputs": [
    {
     "ename": "BoundsError",
     "evalue": "BoundsError: attempt to access Int64 at index [2]",
     "output_type": "error",
     "traceback": [
      "BoundsError: attempt to access Int64 at index [2]\n",
      "\n",
      "Stacktrace:\n",
      " [1] getindex\n",
      "   @ ./number.jl:98 [inlined]\n",
      " [2] #15\n",
      "   @ ~/projects/notebooks2/posts/2021-07-12-julia_memo.ipynb:1 [inlined]\n",
      " [3] filter(f::var\"#15#16\", a::Matrix{Int64})\n",
      "   @ Base ./array.jl:2675\n",
      " [4] top-level scope\n",
      "   @ ~/projects/notebooks2/posts/2021-07-12-julia_memo.ipynb:1"
     ]
    }
   ],
   "source": [
    "filter(x->iseven(x[2]), x)"
   ]
  },
  {
   "cell_type": "markdown",
   "id": "a5b051e0",
   "metadata": {},
   "source": [
    "filterを使えないので例えば次のようにする:"
   ]
  },
  {
   "cell_type": "code",
   "execution_count": 19,
   "id": "3f9ffc60",
   "metadata": {},
   "outputs": [
    {
     "data": {
      "text/plain": [
       "5×3 Matrix{Int64}:\n",
       " -3447320615839289584  2389268345481233176  -6485329445295354633\n",
       "  3595047806792093185  1172421900134288996  -4750125639239034923\n",
       "  1363143167553767130  7000736503973028484   5847702750677365622\n",
       " -7716510106645479528  5657573041425477116  -1159079173192823842\n",
       " -3856910791373303962  2502860500295826394   7127390806145534861"
      ]
     },
     "metadata": {},
     "output_type": "display_data"
    }
   ],
   "source": [
    "x[x[:,2] .%2 .==0,:]"
   ]
  },
  {
   "cell_type": "code",
   "execution_count": 20,
   "id": "352e84c4",
   "metadata": {},
   "outputs": [
    {
     "data": {
      "text/plain": [
       "5×3 Matrix{Int64}:\n",
       " -3447320615839289584  2389268345481233176  -6485329445295354633\n",
       "  3595047806792093185  1172421900134288996  -4750125639239034923\n",
       "  1363143167553767130  7000736503973028484   5847702750677365622\n",
       " -7716510106645479528  5657573041425477116  -1159079173192823842\n",
       " -3856910791373303962  2502860500295826394   7127390806145534861"
      ]
     },
     "metadata": {},
     "output_type": "display_data"
    }
   ],
   "source": [
    "x[iseven.(x[:,2]),:]"
   ]
  },
  {
   "cell_type": "code",
   "execution_count": 21,
   "id": "71c097d6",
   "metadata": {},
   "outputs": [
    {
     "data": {
      "text/plain": [
       "5×3 Matrix{Int64}:\n",
       " -3447320615839289584  2389268345481233176  -6485329445295354633\n",
       "  3595047806792093185  1172421900134288996  -4750125639239034923\n",
       "  1363143167553767130  7000736503973028484   5847702750677365622\n",
       " -7716510106645479528  5657573041425477116  -1159079173192823842\n",
       " -3856910791373303962  2502860500295826394   7127390806145534861"
      ]
     },
     "metadata": {},
     "output_type": "display_data"
    }
   ],
   "source": [
    "x[findall(a -> iseven(x[a,2]), 1:size(x)[1]),:]"
   ]
  },
  {
   "cell_type": "code",
   "execution_count": 22,
   "id": "862ed821",
   "metadata": {},
   "outputs": [
    {
     "data": {
      "text/plain": [
       "5×3 Matrix{Int64}:\n",
       " -3447320615839289584  2389268345481233176  -6485329445295354633\n",
       "  3595047806792093185  1172421900134288996  -4750125639239034923\n",
       "  1363143167553767130  7000736503973028484   5847702750677365622\n",
       " -7716510106645479528  5657573041425477116  -1159079173192823842\n",
       " -3856910791373303962  2502860500295826394   7127390806145534861"
      ]
     },
     "metadata": {},
     "output_type": "display_data"
    }
   ],
   "source": [
    "x[findall(iseven,x[:,2]),:]"
   ]
  },
  {
   "cell_type": "code",
   "execution_count": 23,
   "id": "68f64cd5",
   "metadata": {},
   "outputs": [],
   "source": []
  },
  {
   "cell_type": "markdown",
   "id": "35bdd487",
   "metadata": {},
   "source": [
    "# 競プロ関連"
   ]
  },
  {
   "cell_type": "markdown",
   "id": "576dddf3",
   "metadata": {},
   "source": [
    "## listをつなげて文字列にして出力する場合はjoinの方が早い\n",
    "\n",
    "と以前atcoderでハマったのでメモしようと思ったが試してみるとなぜかfor文ベタ書きが一番早い."
   ]
  },
  {
   "cell_type": "code",
   "execution_count": 24,
   "id": "b4e696c2",
   "metadata": {},
   "outputs": [],
   "source": [
    "l=rand(0:9,100);"
   ]
  },
  {
   "cell_type": "code",
   "execution_count": 25,
   "id": "86c468d4",
   "metadata": {},
   "outputs": [
    {
     "name": "stdout",
     "output_type": "stream",
     "text": [
      "0825670272040984510758647377189790987793993950097603858275133276948923626202573746492476422906277389\n",
      "  0.021755 seconds (8.97 k allocations: 606.688 KiB, 97.98% compilation time: 13% of which was recompilation)\n"
     ]
    }
   ],
   "source": [
    "@time println(join(l))"
   ]
  },
  {
   "cell_type": "code",
   "execution_count": 26,
   "id": "10cf2eeb",
   "metadata": {},
   "outputs": [
    {
     "name": "stdout",
     "output_type": "stream",
     "text": [
      "0825670272040984510758647377189790987793993950097603858275133276948923626202573746492476422906277389\n",
      "  0.000111 seconds (18 allocations: 536 bytes)\n"
     ]
    }
   ],
   "source": [
    "s=\"\"\n",
    "for n in l\n",
    "    s*=string(n)\n",
    "end\n",
    "@time println(s)"
   ]
  },
  {
   "cell_type": "code",
   "execution_count": 27,
   "id": "8101a44a",
   "metadata": {},
   "outputs": [
    {
     "name": "stdout",
     "output_type": "stream",
     "text": [
      "0825670272040984510758647377189790987793993950097603858275133276948923626202573746492476422906277389\n",
      "  0.083234 seconds (742 allocations: 46.375 KiB, 95.49% gc time, 4.17% compilation time)\n"
     ]
    }
   ],
   "source": [
    "function j(l)\n",
    " println(join(l))\n",
    "end\n",
    "@time j(l)"
   ]
  },
  {
   "cell_type": "code",
   "execution_count": 28,
   "id": "14d113f4",
   "metadata": {},
   "outputs": [
    {
     "name": "stdout",
     "output_type": "stream",
     "text": [
      "0825670272040984510758647377189790987793993950097603858275133276948923626202573746492476422906277389\n",
      "  0.016438 seconds (2.65 k allocations: 170.320 KiB, 97.48% compilation time)\n"
     ]
    }
   ],
   "source": [
    "function jj(l)\n",
    "s=\"\"\n",
    "for n in l\n",
    "    s*=string(n)\n",
    "end\n",
    "println(s)\n",
    "end\n",
    "@time jj(l)"
   ]
  },
  {
   "cell_type": "markdown",
   "id": "84689b27",
   "metadata": {},
   "source": [
    "@timeの仕様かと思ったけどよくわからない."
   ]
  },
  {
   "cell_type": "code",
   "execution_count": 29,
   "id": "25a152fd",
   "metadata": {},
   "outputs": [
    {
     "name": "stdout",
     "output_type": "stream",
     "text": [
      "0825670272040984510758647377189790987793993950097603858275133276948923626202573746492476422906277389\n",
      "  0.000128 seconds (418 allocations: 19.180 KiB)\n"
     ]
    }
   ],
   "source": [
    "@time begin\n",
    "s=\"\"\n",
    "for n in l\n",
    "    s*=string(n)\n",
    "end\n",
    " println(s)\n",
    "end"
   ]
  },
  {
   "cell_type": "markdown",
   "id": "3796b475",
   "metadata": {},
   "source": [
    "# n重ループの綺麗な回し方"
   ]
  },
  {
   "cell_type": "markdown",
   "id": "1900bf46",
   "metadata": {},
   "source": [
    "## 複数の変数をforひとつで書ける"
   ]
  },
  {
   "cell_type": "code",
   "execution_count": 30,
   "id": "3234aa3b",
   "metadata": {},
   "outputs": [
    {
     "name": "stdout",
     "output_type": "stream",
     "text": [
      "1 1\n",
      "1 2\n",
      "1 3\n",
      "1 4\n",
      "1 5\n",
      "2 1\n",
      "2 2\n",
      "2 3\n",
      "2 4\n",
      "2 5\n",
      "3 1\n",
      "3 2\n",
      "3 3\n",
      "3 4\n",
      "3 5\n"
     ]
    }
   ],
   "source": [
    "for i=1:3, j=1:5\n",
    "    println(i,\" \",j)\n",
    "end"
   ]
  },
  {
   "cell_type": "markdown",
   "id": "d04c9366",
   "metadata": {},
   "source": [
    "## 可変なn重ループはCartesianIndicesで上手にできる"
   ]
  },
  {
   "cell_type": "code",
   "execution_count": 31,
   "id": "10ba430a",
   "metadata": {},
   "outputs": [
    {
     "name": "stdout",
     "output_type": "stream",
     "text": [
      "[0, 0, 0]\n",
      "[1, 0, 0]\n",
      "[2, 0, 0]\n",
      "[0, 1, 0]\n",
      "[1, 1, 0]\n",
      "[2, 1, 0]\n",
      "[0, 2, 0]\n",
      "[1, 2, 0]\n",
      "[2, 2, 0]\n",
      "[0, 0, 1]\n",
      "[1, 0, 1]\n",
      "[2, 0, 1]\n",
      "[0, 1, 1]\n",
      "[1, 1, 1]\n",
      "[2, 1, 1]\n",
      "[0, 2, 1]\n",
      "[1, 2, 1]\n",
      "[2, 2, 1]\n",
      "[0, 0, 2]\n",
      "[1, 0, 2]\n",
      "[2, 0, 2]\n",
      "[0, 1, 2]\n",
      "[1, 1, 2]\n",
      "[2, 1, 2]\n",
      "[0, 2, 2]\n",
      "[1, 2, 2]\n",
      "[2, 2, 2]\n"
     ]
    }
   ],
   "source": [
    "\n",
    "n=3\n",
    "for c in CartesianIndices(ntuple(d->0:2, n))\n",
    "    # vectorにする\n",
    "    x=collect(c.I)\n",
    "    println(x)\n",
    "end"
   ]
  },
  {
   "cell_type": "markdown",
   "id": "de870384",
   "metadata": {},
   "source": []
  }
 ],
 "metadata": {
  "@webio": {
   "lastCommId": null,
   "lastKernelId": null
  },
  "kernelspec": {
   "display_name": "Julia 1.10.0",
   "language": "julia",
   "name": "julia-1.10"
  },
  "language_info": {
   "file_extension": ".jl",
   "mimetype": "application/julia",
   "name": "julia",
   "version": "1.10.0"
  }
 },
 "nbformat": 4,
 "nbformat_minor": 5
}
