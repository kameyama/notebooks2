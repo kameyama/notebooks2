{
 "cells": [
  {
   "cell_type": "raw",
   "id": "b0e185d6",
   "metadata": {},
   "source": [
    "---\n",
    "title: \"julia memo\"\n",
    "description: \"(自分が)よく間違えるjuliaの構文をまとめる\"\n",
    "date: \"2021/07/29\"\n",
    "format:\n",
    "  html:\n",
    "    code-fold: true\n",
    "  pdf:\n",
    "    geometry: \n",
    "        - top=30mm\n",
    "        - left=30mm\n",
    "jupyter: julia-1.9\n",
    "categories: [julia, database, aws, gcp, bigquery]\n",
    "---"
   ]
  },
  {
   "cell_type": "code",
   "execution_count": 30,
   "id": "88a20ef1",
   "metadata": {},
   "outputs": [
    {
     "name": "stdout",
     "output_type": "stream",
     "text": [
      "Julia Version 1.6.1\n",
      "Commit 6aaedecc44 (2021-04-23 05:59 UTC)\n",
      "Platform Info:\n",
      "  OS: macOS (x86_64-apple-darwin18.7.0)\n",
      "  CPU: Intel(R) Core(TM) i7-8557U CPU @ 1.70GHz\n",
      "  WORD_SIZE: 64\n",
      "  LIBM: libopenlibm\n",
      "  LLVM: libLLVM-11.0.1 (ORCJIT, skylake)\n",
      "Environment:\n",
      "  JULIA_NUM_THREADS = 8\n"
     ]
    }
   ],
   "source": [
    "versioninfo()"
   ]
  },
  {
   "cell_type": "code",
   "execution_count": null,
   "id": "c0770154",
   "metadata": {},
   "outputs": [],
   "source": []
  },
  {
   "cell_type": "code",
   "execution_count": null,
   "id": "e32e8cc7",
   "metadata": {},
   "outputs": [],
   "source": []
  },
  {
   "cell_type": "code",
   "execution_count": null,
   "id": "60b1e122",
   "metadata": {},
   "outputs": [],
   "source": []
  },
  {
   "cell_type": "markdown",
   "id": "39e1d130",
   "metadata": {},
   "source": [
    "# よく間違えるjulia構文\n",
    "\n",
    "\n",
    "## 配列のfor文\n",
    "多次元配列と配列の配列を混同してfor文を間違えることがある. \n",
    "適当な多次元配列$x$があるとする."
   ]
  },
  {
   "cell_type": "code",
   "execution_count": 2,
   "id": "a54f9da1",
   "metadata": {},
   "outputs": [
    {
     "data": {
      "text/plain": [
       "10×3 Matrix{Int64}:\n",
       " 2  1  3\n",
       " 1  1  5\n",
       " 5  1  1\n",
       " 4  1  2\n",
       " 3  5  5\n",
       " 5  4  3\n",
       " 4  4  4\n",
       " 5  4  2\n",
       " 1  5  5\n",
       " 3  5  2"
      ]
     },
     "execution_count": 2,
     "metadata": {},
     "output_type": "execute_result"
    }
   ],
   "source": [
    "x = rand(1:5, 10, 3)"
   ]
  },
  {
   "cell_type": "markdown",
   "id": "2da30961",
   "metadata": {},
   "source": [
    "for文で多次元配列を回そうとすると全ての要素を縦になめる:"
   ]
  },
  {
   "cell_type": "code",
   "execution_count": 3,
   "id": "b218d5b9",
   "metadata": {},
   "outputs": [
    {
     "name": "stdout",
     "output_type": "stream",
     "text": [
      "2\n",
      "1\n",
      "5\n",
      "4\n",
      "3\n",
      "5\n",
      "4\n",
      "5\n",
      "1\n",
      "3\n",
      "1\n",
      "1\n",
      "1\n",
      "1\n",
      "5\n",
      "4\n",
      "4\n",
      "4\n",
      "5\n",
      "5\n",
      "3\n",
      "5\n",
      "1\n",
      "2\n",
      "5\n",
      "3\n",
      "4\n",
      "2\n",
      "5\n",
      "2\n"
     ]
    }
   ],
   "source": [
    "for e in x\n",
    "    println(e)\n",
    "end"
   ]
  },
  {
   "cell_type": "markdown",
   "id": "d02026c7",
   "metadata": {},
   "source": [
    "行ごとに回したければeachrowを使う:"
   ]
  },
  {
   "cell_type": "code",
   "execution_count": 4,
   "id": "a2f30a4f",
   "metadata": {},
   "outputs": [
    {
     "name": "stdout",
     "output_type": "stream",
     "text": [
      "[2, 1, 3]\n",
      "[1, 1, 5]\n",
      "[5, 1, 1]\n",
      "[4, 1, 2]\n",
      "[3, 5, 5]\n",
      "[5, 4, 3]\n",
      "[4, 4, 4]\n",
      "[5, 4, 2]\n",
      "[1, 5, 5]\n",
      "[3, 5, 2]\n"
     ]
    }
   ],
   "source": [
    "for row in eachrow(x)\n",
    "    println(row)\n",
    "end"
   ]
  },
  {
   "cell_type": "code",
   "execution_count": 5,
   "id": "a342d745",
   "metadata": {},
   "outputs": [
    {
     "name": "stdout",
     "output_type": "stream",
     "text": [
      "[2, 1, 5, 4, 3, 5, 4, 5, 1, 3]\n",
      "[1, 1, 1, 1, 5, 4, 4, 4, 5, 5]\n",
      "[3, 5, 1, 2, 5, 3, 4, 2, 5, 2]\n"
     ]
    }
   ],
   "source": [
    "for col in eachcol(x)\n",
    "    println(col)\n",
    "end"
   ]
  },
  {
   "cell_type": "markdown",
   "id": "e0e5616f",
   "metadata": {},
   "source": [
    "# 配列の配列の場合\n",
    "\n",
    "配列の配列$y$があるとする"
   ]
  },
  {
   "cell_type": "code",
   "execution_count": 6,
   "id": "e072ba0b",
   "metadata": {},
   "outputs": [
    {
     "data": {
      "text/plain": [
       "10-element Vector{Vector{Int64}}:\n",
       " [4, 2, 4]\n",
       " [4, 2, 1]\n",
       " [1, 2, 1]\n",
       " [5, 3, 5]\n",
       " [3, 5, 3]\n",
       " [2, 1, 3]\n",
       " [3, 5, 4]\n",
       " [5, 3, 4]\n",
       " [4, 5, 2]\n",
       " [1, 3, 1]"
      ]
     },
     "execution_count": 6,
     "metadata": {},
     "output_type": "execute_result"
    }
   ],
   "source": [
    "y=[zeros(Int,3) for i=1:10]\n",
    "for i=1:10\n",
    "    for j=1:3\n",
    "        y[i][j]=rand(1:5)\n",
    "    end\n",
    "end\n",
    "y"
   ]
  },
  {
   "cell_type": "markdown",
   "id": "97324be6",
   "metadata": {},
   "source": [
    "この場合は次のように回せる:"
   ]
  },
  {
   "cell_type": "code",
   "execution_count": 7,
   "id": "68f74a0a",
   "metadata": {},
   "outputs": [
    {
     "name": "stdout",
     "output_type": "stream",
     "text": [
      "[4, 2, 4]\n",
      "[4, 2, 1]\n",
      "[1, 2, 1]\n",
      "[5, 3, 5]\n",
      "[3, 5, 3]\n",
      "[2, 1, 3]\n",
      "[3, 5, 4]\n",
      "[5, 3, 4]\n",
      "[4, 5, 2]\n",
      "[1, 3, 1]\n"
     ]
    }
   ],
   "source": [
    "for row in y\n",
    "    println(row)\n",
    "end"
   ]
  },
  {
   "cell_type": "code",
   "execution_count": null,
   "id": "ace2a404",
   "metadata": {},
   "outputs": [],
   "source": []
  },
  {
   "cell_type": "markdown",
   "id": "417f23bd",
   "metadata": {},
   "source": [
    "# 部分配列\n",
    "ある配列から特定の条件を満たす部分配列を求める場合filter関数を使いたくなる:"
   ]
  },
  {
   "cell_type": "code",
   "execution_count": 12,
   "id": "07bcf35c",
   "metadata": {},
   "outputs": [
    {
     "name": "stdout",
     "output_type": "stream",
     "text": [
      "search: \u001b[0m\u001b[1mf\u001b[22m\u001b[0m\u001b[1mi\u001b[22m\u001b[0m\u001b[1ml\u001b[22m\u001b[0m\u001b[1mt\u001b[22m\u001b[0m\u001b[1me\u001b[22m\u001b[0m\u001b[1mr\u001b[22m \u001b[0m\u001b[1mf\u001b[22m\u001b[0m\u001b[1mi\u001b[22m\u001b[0m\u001b[1ml\u001b[22m\u001b[0m\u001b[1mt\u001b[22m\u001b[0m\u001b[1me\u001b[22m\u001b[0m\u001b[1mr\u001b[22m! \u001b[0m\u001b[1mf\u001b[22m\u001b[0m\u001b[1mi\u001b[22me\u001b[0m\u001b[1ml\u001b[22md\u001b[0m\u001b[1mt\u001b[22myp\u001b[0m\u001b[1me\u001b[22m \u001b[0m\u001b[1mf\u001b[22m\u001b[0m\u001b[1mi\u001b[22me\u001b[0m\u001b[1ml\u001b[22md\u001b[0m\u001b[1mt\u001b[22myp\u001b[0m\u001b[1me\u001b[22ms\n",
      "\n"
     ]
    },
    {
     "data": {
      "text/latex": [
       "\\begin{verbatim}\n",
       "filter(f, a)\n",
       "\\end{verbatim}\n",
       "Return a copy of collection \\texttt{a}, removing elements for which \\texttt{f} is \\texttt{false}. The function \\texttt{f} is passed one argument.\n",
       "\n",
       "\\begin{quote}\n",
       "\\textbf{compat}\n",
       "\n",
       "Julia 1.4\n",
       "\n",
       "Support for \\texttt{a} as a tuple requires at least Julia 1.4.\n",
       "\n",
       "\\end{quote}\n",
       "\\section{Examples}\n",
       "\\begin{verbatim}\n",
       "julia> a = 1:10\n",
       "1:10\n",
       "\n",
       "julia> filter(isodd, a)\n",
       "5-element Vector{Int64}:\n",
       " 1\n",
       " 3\n",
       " 5\n",
       " 7\n",
       " 9\n",
       "\\end{verbatim}\n",
       "\\rule{\\textwidth}{1pt}\n",
       "\\begin{verbatim}\n",
       "filter(f, d::AbstractDict)\n",
       "\\end{verbatim}\n",
       "Return a copy of \\texttt{d}, removing elements for which \\texttt{f} is \\texttt{false}. The function \\texttt{f} is passed \\texttt{key=>value} pairs.\n",
       "\n",
       "\\section{Examples}\n",
       "\\begin{verbatim}\n",
       "julia> d = Dict(1=>\"a\", 2=>\"b\")\n",
       "Dict{Int64, String} with 2 entries:\n",
       "  2 => \"b\"\n",
       "  1 => \"a\"\n",
       "\n",
       "julia> filter(p->isodd(p.first), d)\n",
       "Dict{Int64, String} with 1 entry:\n",
       "  1 => \"a\"\n",
       "\\end{verbatim}\n",
       "\\rule{\\textwidth}{1pt}\n",
       "\\begin{verbatim}\n",
       "filter(f, itr::SkipMissing{<:AbstractArray})\n",
       "\\end{verbatim}\n",
       "Return a vector similar to the array wrapped by the given \\texttt{SkipMissing} iterator but with all missing elements and those for which \\texttt{f} returns \\texttt{false} removed.\n",
       "\n",
       "\\begin{quote}\n",
       "\\textbf{compat}\n",
       "\n",
       "Julia 1.2\n",
       "\n",
       "This method requires Julia 1.2 or later.\n",
       "\n",
       "\\end{quote}\n",
       "\\section{Examples}\n",
       "\\begin{verbatim}\n",
       "julia> x = [1 2; missing 4]\n",
       "2×2 Matrix{Union{Missing, Int64}}:\n",
       " 1         2\n",
       "  missing  4\n",
       "\n",
       "julia> filter(isodd, skipmissing(x))\n",
       "1-element Vector{Int64}:\n",
       " 1\n",
       "\\end{verbatim}\n"
      ],
      "text/markdown": [
       "```\n",
       "filter(f, a)\n",
       "```\n",
       "\n",
       "Return a copy of collection `a`, removing elements for which `f` is `false`. The function `f` is passed one argument.\n",
       "\n",
       "!!! compat \"Julia 1.4\"\n",
       "    Support for `a` as a tuple requires at least Julia 1.4.\n",
       "\n",
       "\n",
       "# Examples\n",
       "\n",
       "```jldoctest\n",
       "julia> a = 1:10\n",
       "1:10\n",
       "\n",
       "julia> filter(isodd, a)\n",
       "5-element Vector{Int64}:\n",
       " 1\n",
       " 3\n",
       " 5\n",
       " 7\n",
       " 9\n",
       "```\n",
       "\n",
       "---\n",
       "\n",
       "```\n",
       "filter(f, d::AbstractDict)\n",
       "```\n",
       "\n",
       "Return a copy of `d`, removing elements for which `f` is `false`. The function `f` is passed `key=>value` pairs.\n",
       "\n",
       "# Examples\n",
       "\n",
       "```jldoctest\n",
       "julia> d = Dict(1=>\"a\", 2=>\"b\")\n",
       "Dict{Int64, String} with 2 entries:\n",
       "  2 => \"b\"\n",
       "  1 => \"a\"\n",
       "\n",
       "julia> filter(p->isodd(p.first), d)\n",
       "Dict{Int64, String} with 1 entry:\n",
       "  1 => \"a\"\n",
       "```\n",
       "\n",
       "---\n",
       "\n",
       "```\n",
       "filter(f, itr::SkipMissing{<:AbstractArray})\n",
       "```\n",
       "\n",
       "Return a vector similar to the array wrapped by the given `SkipMissing` iterator but with all missing elements and those for which `f` returns `false` removed.\n",
       "\n",
       "!!! compat \"Julia 1.2\"\n",
       "    This method requires Julia 1.2 or later.\n",
       "\n",
       "\n",
       "# Examples\n",
       "\n",
       "```jldoctest\n",
       "julia> x = [1 2; missing 4]\n",
       "2×2 Matrix{Union{Missing, Int64}}:\n",
       " 1         2\n",
       "  missing  4\n",
       "\n",
       "julia> filter(isodd, skipmissing(x))\n",
       "1-element Vector{Int64}:\n",
       " 1\n",
       "```\n"
      ],
      "text/plain": [
       "\u001b[36m  filter(f, a)\u001b[39m\n",
       "\n",
       "  Return a copy of collection \u001b[36ma\u001b[39m, removing elements for which \u001b[36mf\u001b[39m is \u001b[36mfalse\u001b[39m. The\n",
       "  function \u001b[36mf\u001b[39m is passed one argument.\n",
       "\n",
       "\u001b[39m\u001b[1m  │ \u001b[22m\u001b[39m\u001b[1mJulia 1.4\u001b[22m\n",
       "\u001b[39m\u001b[1m  │\u001b[22m\n",
       "\u001b[39m\u001b[1m  │\u001b[22m  Support for \u001b[36ma\u001b[39m as a tuple requires at least Julia 1.4.\n",
       "\n",
       "\u001b[1m  Examples\u001b[22m\n",
       "\u001b[1m  ≡≡≡≡≡≡≡≡≡≡\u001b[22m\n",
       "\n",
       "\u001b[36m  julia> a = 1:10\u001b[39m\n",
       "\u001b[36m  1:10\u001b[39m\n",
       "\u001b[36m  \u001b[39m\n",
       "\u001b[36m  julia> filter(isodd, a)\u001b[39m\n",
       "\u001b[36m  5-element Vector{Int64}:\u001b[39m\n",
       "\u001b[36m   1\u001b[39m\n",
       "\u001b[36m   3\u001b[39m\n",
       "\u001b[36m   5\u001b[39m\n",
       "\u001b[36m   7\u001b[39m\n",
       "\u001b[36m   9\u001b[39m\n",
       "\n",
       "  ────────────────────────────────────────────────────────────────────────────\n",
       "\n",
       "\u001b[36m  filter(f, d::AbstractDict)\u001b[39m\n",
       "\n",
       "  Return a copy of \u001b[36md\u001b[39m, removing elements for which \u001b[36mf\u001b[39m is \u001b[36mfalse\u001b[39m. The function \u001b[36mf\u001b[39m\n",
       "  is passed \u001b[36mkey=>value\u001b[39m pairs.\n",
       "\n",
       "\u001b[1m  Examples\u001b[22m\n",
       "\u001b[1m  ≡≡≡≡≡≡≡≡≡≡\u001b[22m\n",
       "\n",
       "\u001b[36m  julia> d = Dict(1=>\"a\", 2=>\"b\")\u001b[39m\n",
       "\u001b[36m  Dict{Int64, String} with 2 entries:\u001b[39m\n",
       "\u001b[36m    2 => \"b\"\u001b[39m\n",
       "\u001b[36m    1 => \"a\"\u001b[39m\n",
       "\u001b[36m  \u001b[39m\n",
       "\u001b[36m  julia> filter(p->isodd(p.first), d)\u001b[39m\n",
       "\u001b[36m  Dict{Int64, String} with 1 entry:\u001b[39m\n",
       "\u001b[36m    1 => \"a\"\u001b[39m\n",
       "\n",
       "  ────────────────────────────────────────────────────────────────────────────\n",
       "\n",
       "\u001b[36m  filter(f, itr::SkipMissing{<:AbstractArray})\u001b[39m\n",
       "\n",
       "  Return a vector similar to the array wrapped by the given \u001b[36mSkipMissing\u001b[39m\n",
       "  iterator but with all missing elements and those for which \u001b[36mf\u001b[39m returns \u001b[36mfalse\u001b[39m\n",
       "  removed.\n",
       "\n",
       "\u001b[39m\u001b[1m  │ \u001b[22m\u001b[39m\u001b[1mJulia 1.2\u001b[22m\n",
       "\u001b[39m\u001b[1m  │\u001b[22m\n",
       "\u001b[39m\u001b[1m  │\u001b[22m  This method requires Julia 1.2 or later.\n",
       "\n",
       "\u001b[1m  Examples\u001b[22m\n",
       "\u001b[1m  ≡≡≡≡≡≡≡≡≡≡\u001b[22m\n",
       "\n",
       "\u001b[36m  julia> x = [1 2; missing 4]\u001b[39m\n",
       "\u001b[36m  2×2 Matrix{Union{Missing, Int64}}:\u001b[39m\n",
       "\u001b[36m   1         2\u001b[39m\n",
       "\u001b[36m    missing  4\u001b[39m\n",
       "\u001b[36m  \u001b[39m\n",
       "\u001b[36m  julia> filter(isodd, skipmissing(x))\u001b[39m\n",
       "\u001b[36m  1-element Vector{Int64}:\u001b[39m\n",
       "\u001b[36m   1\u001b[39m"
      ]
     },
     "execution_count": 12,
     "metadata": {},
     "output_type": "execute_result"
    }
   ],
   "source": [
    "?filter"
   ]
  },
  {
   "cell_type": "markdown",
   "id": "9b776359",
   "metadata": {},
   "source": [
    "多次元配列に対しfilter関数を使うと１次元配列が返る:"
   ]
  },
  {
   "cell_type": "code",
   "execution_count": 2,
   "id": "9fdb10af",
   "metadata": {},
   "outputs": [
    {
     "data": {
      "text/plain": [
       "10×3 Matrix{Int64}:\n",
       " -5225426650602014922  -7897912436381683945  -3211480135654296764\n",
       " -2367706378189222118  -8074233384091202526   7140575899278393832\n",
       " -3701204663351764859   8118911886810389263  -2465634172456524632\n",
       " -2009298108373942027   2477122666332687763  -9127782429389187925\n",
       " -7849043397713143979  -4501639957282787028  -2523742365264192937\n",
       " -5756877372530701820  -7147116965065108201  -8647207541707448429\n",
       " -6152057904350993939  -7050448553908782041   6147233744355870367\n",
       "  5026289808326491480  -7763311989044274567   3433803153276873203\n",
       " -7336383049661808522   3788869708303507081  -4376110160490542272\n",
       "  -129002948401320750   4228450907397190871   1524287850472670616"
      ]
     },
     "execution_count": 2,
     "metadata": {},
     "output_type": "execute_result"
    }
   ],
   "source": [
    " x =  reshape([rand(Int) for i=1:10*3], (:, 3))"
   ]
  },
  {
   "cell_type": "code",
   "execution_count": 3,
   "id": "eccd6388",
   "metadata": {},
   "outputs": [
    {
     "data": {
      "text/plain": [
       "17-element Vector{Int64}:\n",
       " -3701204663351764859\n",
       " -2009298108373942027\n",
       " -7849043397713143979\n",
       " -6152057904350993939\n",
       " -7897912436381683945\n",
       "  8118911886810389263\n",
       "  2477122666332687763\n",
       " -7147116965065108201\n",
       " -7050448553908782041\n",
       " -7763311989044274567\n",
       "  3788869708303507081\n",
       "  4228450907397190871\n",
       " -9127782429389187925\n",
       " -2523742365264192937\n",
       " -8647207541707448429\n",
       "  6147233744355870367\n",
       "  3433803153276873203"
      ]
     },
     "execution_count": 3,
     "metadata": {},
     "output_type": "execute_result"
    }
   ],
   "source": [
    "filter(isodd, skipmissing(x))"
   ]
  },
  {
   "cell_type": "markdown",
   "id": "b8f4ea1c",
   "metadata": {},
   "source": [
    "従って2列目が偶数である部分配列を取り出そうとして次のコードを実行するとエラーになる:"
   ]
  },
  {
   "cell_type": "code",
   "execution_count": 4,
   "id": "dab0cb6d",
   "metadata": {},
   "outputs": [
    {
     "ename": "LoadError",
     "evalue": "BoundsError",
     "output_type": "error",
     "traceback": [
      "BoundsError",
      "",
      "Stacktrace:",
      " [1] getindex",
      "   @ ./number.jl:96 [inlined]",
      " [2] #3",
      "   @ ./In[4]:1 [inlined]",
      " [3] filter(f::var\"#3#4\", a::Matrix{Int64})",
      "   @ Base ./array.jl:2507",
      " [4] top-level scope",
      "   @ In[4]:1",
      " [5] eval",
      "   @ ./boot.jl:360 [inlined]",
      " [6] include_string(mapexpr::typeof(REPL.softscope), mod::Module, code::String, filename::String)",
      "   @ Base ./loading.jl:1094"
     ]
    }
   ],
   "source": [
    "filter(x->iseven(x[2]), x)"
   ]
  },
  {
   "cell_type": "markdown",
   "id": "a5b051e0",
   "metadata": {},
   "source": [
    "filterを使えないので例えば次のようにする:"
   ]
  },
  {
   "cell_type": "code",
   "execution_count": 5,
   "id": "3f9ffc60",
   "metadata": {},
   "outputs": [
    {
     "data": {
      "text/plain": [
       "2×3 Matrix{Int64}:\n",
       " -2367706378189222118  -8074233384091202526   7140575899278393832\n",
       " -7849043397713143979  -4501639957282787028  -2523742365264192937"
      ]
     },
     "execution_count": 5,
     "metadata": {},
     "output_type": "execute_result"
    }
   ],
   "source": [
    "x[x[:,2] .%2 .==0,:]"
   ]
  },
  {
   "cell_type": "code",
   "execution_count": 6,
   "id": "352e84c4",
   "metadata": {},
   "outputs": [
    {
     "data": {
      "text/plain": [
       "2×3 Matrix{Int64}:\n",
       " -2367706378189222118  -8074233384091202526   7140575899278393832\n",
       " -7849043397713143979  -4501639957282787028  -2523742365264192937"
      ]
     },
     "execution_count": 6,
     "metadata": {},
     "output_type": "execute_result"
    }
   ],
   "source": [
    "x[iseven.(x[:,2]),:]"
   ]
  },
  {
   "cell_type": "code",
   "execution_count": 7,
   "id": "71c097d6",
   "metadata": {},
   "outputs": [
    {
     "data": {
      "text/plain": [
       "2×3 Matrix{Int64}:\n",
       " -2367706378189222118  -8074233384091202526   7140575899278393832\n",
       " -7849043397713143979  -4501639957282787028  -2523742365264192937"
      ]
     },
     "execution_count": 7,
     "metadata": {},
     "output_type": "execute_result"
    }
   ],
   "source": [
    "x[findall(a -> iseven(x[a,2]), 1:size(x)[1]),:]"
   ]
  },
  {
   "cell_type": "code",
   "execution_count": 11,
   "id": "862ed821",
   "metadata": {},
   "outputs": [
    {
     "data": {
      "text/plain": [
       "2×3 Matrix{Int64}:\n",
       " -2367706378189222118  -8074233384091202526   7140575899278393832\n",
       " -7849043397713143979  -4501639957282787028  -2523742365264192937"
      ]
     },
     "execution_count": 11,
     "metadata": {},
     "output_type": "execute_result"
    }
   ],
   "source": [
    "x[findall(iseven,x[:,2]),:]"
   ]
  },
  {
   "cell_type": "code",
   "execution_count": null,
   "id": "68f64cd5",
   "metadata": {},
   "outputs": [],
   "source": []
  },
  {
   "cell_type": "markdown",
   "id": "35bdd487",
   "metadata": {},
   "source": [
    "# 競プロ関連"
   ]
  },
  {
   "cell_type": "markdown",
   "id": "576dddf3",
   "metadata": {},
   "source": [
    "## listをつなげて文字列にして出力する場合はjoinの方が早い\n",
    "\n",
    "と以前atcoderでハマったのでメモしようと思ったが試してみるとなぜかfor文ベタ書きが一番早い."
   ]
  },
  {
   "cell_type": "code",
   "execution_count": 34,
   "id": "b4e696c2",
   "metadata": {},
   "outputs": [],
   "source": [
    "l=rand(0:9,100);"
   ]
  },
  {
   "cell_type": "code",
   "execution_count": 35,
   "id": "86c468d4",
   "metadata": {},
   "outputs": [
    {
     "name": "stdout",
     "output_type": "stream",
     "text": [
      "9003464350455442362738102226859217991002631105006012661620360406555247703162576929699877728261059317\n",
      "  0.001320 seconds (228 allocations: 10.438 KiB)\n"
     ]
    }
   ],
   "source": [
    "@time println(join(l))"
   ]
  },
  {
   "cell_type": "code",
   "execution_count": 36,
   "id": "10cf2eeb",
   "metadata": {},
   "outputs": [
    {
     "name": "stdout",
     "output_type": "stream",
     "text": [
      "9003464350455442362738102226859217991002631105006012661620360406555247703162576929699877728261059317\n",
      "  0.000147 seconds (21 allocations: 640 bytes)\n"
     ]
    }
   ],
   "source": [
    "s=\"\"\n",
    "for n in l\n",
    "    s*=string(n)\n",
    "end\n",
    "@time println(s)"
   ]
  },
  {
   "cell_type": "code",
   "execution_count": 37,
   "id": "8101a44a",
   "metadata": {},
   "outputs": [
    {
     "name": "stdout",
     "output_type": "stream",
     "text": [
      "9003464350455442362738102226859217991002631105006012661620360406555247703162576929699877728261059317\n",
      "  0.004714 seconds (1.05 k allocations: 59.887 KiB, 93.06% compilation time)\n"
     ]
    }
   ],
   "source": [
    "function j(l)\n",
    " println(join(l))\n",
    "end\n",
    "@time j(l)"
   ]
  },
  {
   "cell_type": "code",
   "execution_count": 38,
   "id": "14d113f4",
   "metadata": {},
   "outputs": [
    {
     "name": "stdout",
     "output_type": "stream",
     "text": [
      "9003464350455442362738102226859217991002631105006012661620360406555247703162576929699877728261059317\n",
      "  0.012173 seconds (4.91 k allocations: 249.832 KiB, 96.46% compilation time)\n"
     ]
    }
   ],
   "source": [
    "function jj(l)\n",
    "s=\"\"\n",
    "for n in l\n",
    "    s*=string(n)\n",
    "end\n",
    "println(s)\n",
    "end\n",
    "@time jj(l)"
   ]
  },
  {
   "cell_type": "markdown",
   "id": "84689b27",
   "metadata": {},
   "source": [
    "@timeの仕様かと思ったけどよくわからない."
   ]
  },
  {
   "cell_type": "code",
   "execution_count": 41,
   "id": "25a152fd",
   "metadata": {},
   "outputs": [
    {
     "name": "stdout",
     "output_type": "stream",
     "text": [
      "9003464350455442362738102226859217991002631105006012661620360406555247703162576929699877728261059317\n",
      "  0.000244 seconds (421 allocations: 20.469 KiB)\n"
     ]
    }
   ],
   "source": [
    "@time begin\n",
    "s=\"\"\n",
    "for n in l\n",
    "    s*=string(n)\n",
    "end\n",
    " println(s)\n",
    "end"
   ]
  },
  {
   "cell_type": "code",
   "execution_count": null,
   "id": "3796b475",
   "metadata": {},
   "outputs": [],
   "source": []
  }
 ],
 "metadata": {
  "@webio": {
   "lastCommId": null,
   "lastKernelId": null
  },
  "kernelspec": {
   "display_name": "Julia 1.7.2",
   "language": "julia",
   "name": "julia-1.7"
  },
  "language_info": {
   "file_extension": ".jl",
   "mimetype": "application/julia",
   "name": "julia",
   "version": "1.7.3"
  }
 },
 "nbformat": 4,
 "nbformat_minor": 5
}
